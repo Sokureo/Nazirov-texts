{
 "cells": [
  {
   "cell_type": "code",
   "execution_count": 1,
   "metadata": {
    "collapsed": true
   },
   "outputs": [],
   "source": [
    "import os"
   ]
  },
  {
   "cell_type": "code",
   "execution_count": 2,
   "metadata": {
    "collapsed": true
   },
   "outputs": [],
   "source": [
    "thisdir = os.getcwd()  # текущая директория\n",
    "mystem = os.path.join(thisdir, 'mystem.exe')  # путь к mystem\n",
    "textdir = os.path.join(thisdir, 'texts')  # путь к нелемматизированным текстам\n",
    "lemmadir = os.path.join(thisdir, 'lemma_texts')  # путь к лемматизированным текстам\n",
    "if not os.path.exists(lemmadir):\n",
    "    os.mkdir(lemmadir)"
   ]
  },
  {
   "cell_type": "code",
   "execution_count": 6,
   "metadata": {},
   "outputs": [
    {
     "name": "stdout",
     "output_type": "stream",
     "text": [
      "2016_2_02_diary_1950_1951_1.txt processing...\n",
      "2016_2_02_diary_1950_1951_2.txt processing...\n",
      "2016_2_03_diary_1956_na16.txt processing...\n",
      "2016_2_04_diary_1957_1.txt processing...\n",
      "2016_2_04_diary_1957_2.txt processing...\n",
      "2016_2_04_diary_1957_3.txt processing...\n",
      "2016_2_04_diary_1957_4.txt processing...\n",
      "2016_3_02_diary_1958.txt processing...\n",
      "2016_3_03_diary_1963.txt processing...\n",
      "2016_3_04_diary_1964_1.txt processing...\n",
      "2016_3_04_diary_1964_2.txt processing...\n",
      "2013_1_8-93_igrok_1.txt processing...\n",
      "2013_1_8-93_igrok_2.txt processing...\n",
      "2013_1_8-93_igrok_3.txt processing...\n",
      "2013_2_6-83_besy_1.txt processing...\n",
      "2013_2_6-83_besy_2.txt processing...\n",
      "2013_2_6-83_besy_3.txt processing...\n",
      "2015_3_8-15_troyat.txt processing...\n",
      "art_probl.txt processing...\n",
      "humour_dost_nazirov-baudelaire_nazirov-odoevsky.txt processing...\n",
      "nazirov-book_1.txt processing...\n",
      "nazirov-book_2.txt processing...\n",
      "nazirov-book_3.txt processing...\n",
      "nazirov-book_4.txt processing...\n",
      "nazirov-book_5.txt processing...\n",
      "nazirov-comparative.txt processing...\n",
      "nazirov-comparative_nazirov-godwin_nazirov-miloserdie.txt processing...\n",
      "nazirov-mobile.txt processing...\n",
      "nazirov-mobile_nazirov-paraphrasa_nazirov-preemstven.txt processing...\n",
      "nazirov-ravnopravie_nazirov-slovar.txt processing...\n",
      "nazirov-unizhennye_nazirov-verxovensky.txt processing...\n",
      "nazirov-vrazhda_protoype_stavr.txt processing...\n",
      "prototypes_idiot_prototype_dost.txt processing...\n",
      "readers_problem.txt processing...\n",
      "2013_1_95-98_war-n-peace_2016_4_03_friend_hugo-flaubert_nazirov-chexovcontr.txt processing...\n",
      "2014_1_9-66_freid_1.txt processing...\n",
      "2014_1_9-66_freid_2.txt processing...\n",
      "2014_2_9-61_novel_1.txt processing...\n",
      "2014_2_9-61_novel_2.txt processing...\n",
      "2017_1_2_homestead_1.txt processing...\n",
      "2017_1_2_homestead_2.txt processing...\n",
      "2017_1_2_homestead_3.txt processing...\n",
      "2017_1_2_homestead_4.txt processing...\n",
      "effect_1.txt processing...\n",
      "effect_2.txt processing...\n",
      "effect_3.txt processing...\n",
      "nazirov-autonomy_nazirov-contin_nazirov-humour_nazirov-mudrost.txt processing...\n",
      "nazirov-parody_nazirov-peterburg_nazirov-revizor.txt processing...\n",
      "nazirov-rost_nazirov-umolchanie.txt processing...\n",
      "2015_4_ancient_civil_2015_4_cinder_2015_4_evolution_2015_4_mary.txt processing...\n",
      "2015_4_middleages_2015_4_mouse_2015_4_reactivation_2015_4_science_demon_2015_4_skull_2015_4_sleep_2016_4_02_child.txt processing...\n",
      "ancient_civil_Bescennaja_uzdechka_Cherep_na_sheste_cinder_demon processing...\n",
      "ditya_Dobyvanie_volshebnogo_mecha_evolution_Hrustalnyj_grob processing...\n",
      "Genezis_i_puti_razvitija_mifologicheskih_sjuzhetov_Istoki_sjuzheta_Kashheeva_smert_v_jajce_Istoricheskie_korni_evgemerizma processing...\n",
      "Izbushka_na_kurih_nozhkah_mary_middleages_mouse processing...\n",
      "Nagljadnaja_diplomatija_Narisovannaja_lodka_Podlinnyj_smysl_Polikratova_perstnja_prevrashhenija_sjuzhetov_reactivation_Shamanskij_buben_i_zapertoe_gore_Sjuzhet_ob_ozhivajushhej_statue processing...\n",
      "Skazochnye_talismany_nevidimosti_skull_Slavjanskie_legendy_o_zizhditeljah_gorodov_sleep_Sol_kak_folklorno_mifologicheskij_simvol_Specifika_hudozhestvennogo_mifotvorchestva_Srednevekovoe_mif processing...\n",
      "Stanovlenie_mifov_i_ih_istoricheskaja_zhizn_1 processing...\n",
      "Stanovlenie_mifov_i_ih_istoricheskaja_zhizn_2 processing...\n",
      "Stanovlenie_mifov_i_ih_istoricheskaja_zhizn_3 processing...\n",
      "Stanovlenie_mifov_i_ih_istoricheskaja_zhizn_4 processing...\n",
      "Stanovlenie_mifov_i_ih_istoricheskaja_zhizn_5 processing...\n",
      "Stanovlenie_mifov_i_ih_istoricheskaja_zhizn_6 processing...\n",
      "Svjashhennaja_zola_Vozrozhdenie_iz_kostej_Vyrezka_zemli_Yabloko_i_granat_Zapret_ogljadyvatsja processing...\n",
      "Zametki_k_knige_Zhenopodobie_shamana_i_zhreca processing...\n",
      "Done.\n"
     ]
    }
   ],
   "source": [
    "for d, dirs, files in os.walk(textdir):\n",
    "    for filename in files:\n",
    "        if not filename.endswith('_Indi'):  # исключаем повторяющие тексты в папке myth\n",
    "            print('%s processing...' % filename)\n",
    "            os.system(mystem + ' -ndl ' + os.path.join(d, filename) + ' ' + os.path.join(lemmadir, filename))\n",
    "print('Done.')"
   ]
  }
 ],
 "metadata": {
  "kernelspec": {
   "display_name": "Python 3",
   "language": "python",
   "name": "python3"
  },
  "language_info": {
   "codemirror_mode": {
    "name": "ipython",
    "version": 3
   },
   "file_extension": ".py",
   "mimetype": "text/x-python",
   "name": "python",
   "nbconvert_exporter": "python",
   "pygments_lexer": "ipython3",
   "version": "3.6.3"
  }
 },
 "nbformat": 4,
 "nbformat_minor": 2
}
